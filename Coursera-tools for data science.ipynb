{
 "metadata": {
  "language_info": {
   "codemirror_mode": {
    "name": "ipython",
    "version": 3
   },
   "file_extension": ".py",
   "mimetype": "text/x-python",
   "name": "python",
   "nbconvert_exporter": "python",
   "pygments_lexer": "ipython3",
   "version": "3.8.3-final"
  },
  "orig_nbformat": 2,
  "kernelspec": {
   "name": "Python 3.8.3 64-bit ('base': conda)",
   "display_name": "Python 3.8.3 64-bit ('base': conda)",
   "metadata": {
    "interpreter": {
     "hash": "f6cadb433fb4d5e490a52a7886e50fe75cf2fd39fd559aabdd1f0f7248e07363"
    }
   }
  }
 },
 "nbformat": 4,
 "nbformat_minor": 2,
 "cells": [
  {
   "source": [
    "# My Jupyter Notebook on IBM Watson Studio"
   ],
   "cell_type": "markdown",
   "metadata": {}
  },
  {
   "source": [
    "**Brigita**  \n",
    "Data Analyst"
   ],
   "cell_type": "markdown",
   "metadata": {}
  },
  {
   "source": [
    "*I am interested in data science because I did research for my study and playing eith data is fun. Also, Data scientist is the sexiest job for now. *"
   ],
   "cell_type": "markdown",
   "metadata": {}
  },
  {
   "source": [
    "### Printing Hello World!"
   ],
   "cell_type": "markdown",
   "metadata": {}
  },
  {
   "cell_type": "code",
   "execution_count": 1,
   "metadata": {},
   "outputs": [
    {
     "output_type": "stream",
     "name": "stdout",
     "text": [
      "HelLo World!\n"
     ]
    }
   ],
   "source": [
    "print('HelLo World!')"
   ]
  },
  {
   "source": [
    "horizontal rule   \n",
    "\n",
    "---\n",
    "\n",
    "* bullet list\n",
    "1. numbered list\n",
    "\n",
    "\n",
    "| This is     |     A table |\n",
    "| ----------- | ----------- |\n",
    "| 1    | 2   |\n",
    "| a    | b   |\n",
    "\n",
    "[this is a hyperlink](https://www.example.com)\n",
    "\n",
    "![image](download.jpg)\n",
    "\n",
    "`this is code`\n",
    "\n",
    "> this is blockquote\n",
    "\n",
    "~~ this is strikethrough~~\n",
    "\n",
    "\n",
    "\n",
    "\n",
    "\n",
    "\n",
    "\n",
    "\n",
    "\n",
    "\n",
    "\n",
    "\n",
    "\n",
    "\n",
    "\n",
    "\n"
   ],
   "cell_type": "markdown",
   "metadata": {}
  },
  {
   "cell_type": "code",
   "execution_count": null,
   "metadata": {},
   "outputs": [],
   "source": []
  }
 ]
}